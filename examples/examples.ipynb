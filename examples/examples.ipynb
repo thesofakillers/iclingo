{
 "cells": [
  {
   "cell_type": "markdown",
   "id": "e163aff8-8d51-4735-964d-cfcfc483aa56",
   "metadata": {},
   "source": [
    "# Clingo in Jupyter\n",
    "\n",
    "Welcome to a clingo notebook! This notebook shows some example usage by running some of the programs offered on the [clingo web interface](https://potassco.org/clingo/run/)."
   ]
  },
  {
   "cell_type": "markdown",
   "id": "0db0fc88-3cb5-49b5-95bf-5450d83f8b5e",
   "metadata": {},
   "source": [
    "## Harry and Sally"
   ]
  },
  {
   "cell_type": "code",
   "execution_count": 1,
   "id": "9e548ba9-37f3-4365-9a72-1bd15d78c901",
   "metadata": {},
   "outputs": [
    {
     "name": "stdout",
     "output_type": "stream",
     "text": [
      "Solving...\n",
      "Answer 1\n",
      "motive(harry) motive(sally) guilty(harry) innocent(sally)\n",
      "SATISFIABLE\n",
      "\n",
      "Models\t\t: 1+\n",
      "Time\t\t: 0.001s (Solving: 0.00s 1st Model 0.000s Unsat: 0.000s)"
     ]
    }
   ],
   "source": [
    "% instance\n",
    "motive(harry).\n",
    "motive(sally).\n",
    "guilty(harry).\n",
    "\n",
    "% encoding\n",
    "innocent(Suspect) :- motive(Suspect), not guilty(Suspect)."
   ]
  },
  {
   "cell_type": "markdown",
   "id": "2260b654-436e-4f1c-9d0f-2e159496ea98",
   "metadata": {},
   "source": [
    "### Error handling\n",
    "\n",
    "Note that basic error handling is available"
   ]
  },
  {
   "cell_type": "code",
   "execution_count": 2,
   "id": "bd1de5ed-0e66-4c34-b3c0-8d81bb9659d7",
   "metadata": {},
   "outputs": [
    {
     "ename": "",
     "evalue": "parsing failed",
     "output_type": "error",
     "traceback": []
    }
   ],
   "source": [
    "% instance\n",
    "motive(harry).\n",
    "motive(sally).\n",
    "guilty(harry).\n",
    "\n",
    "% encoding (with a missing period, causing a parsing error)\n",
    "innocent(Suspect) :- motive(Suspect), not guilty(Suspect)"
   ]
  },
  {
   "cell_type": "markdown",
   "id": "21787ce7-df32-403f-a5a2-a82d30f335d9",
   "metadata": {},
   "source": [
    "## Flying Birds"
   ]
  },
  {
   "cell_type": "code",
   "execution_count": 3,
   "id": "daf26476-8b93-40e7-a1d6-e9b5f48c504c",
   "metadata": {},
   "outputs": [
    {
     "name": "stdout",
     "output_type": "stream",
     "text": [
      "Solving...\n",
      "Answer 1\n",
      "bird(eddy) bird(tux) -fly(tux) fly(eddy) penguin(tux) eagle(eddy)\n",
      "SATISFIABLE\n",
      "\n",
      "Models\t\t: 1+\n",
      "Time\t\t: 0.001s (Solving: 0.00s 1st Model 0.000s Unsat: 0.000s)"
     ]
    }
   ],
   "source": [
    "% instance\n",
    "eagle(eddy).\n",
    "penguin(tux).\n",
    "\n",
    "% encoding\n",
    " fly(X) :- bird(X), not -fly(X).\n",
    "-fly(X) :- penguin(X).\n",
    "bird(X) :- penguin(X).\n",
    "bird(X) :- eagle(X)."
   ]
  },
  {
   "cell_type": "markdown",
   "id": "80a7e963-92e2-41a5-84de-9738d16b18ec",
   "metadata": {},
   "source": [
    "## Graph Coloring"
   ]
  },
  {
   "cell_type": "code",
   "execution_count": 4,
   "id": "b2f8fb1a-bfa9-4359-881e-cc348f6aa3e4",
   "metadata": {},
   "outputs": [
    {
     "name": "stdout",
     "output_type": "stream",
     "text": [
      "Solving...\n",
      "Answer 1\n",
      "color(4,1) color(6,1) color(2,2) color(3,2) color(1,3) color(5,3)\n",
      "SATISFIABLE\n",
      "\n",
      "Models\t\t: 1+\n",
      "Time\t\t: 0.002s (Solving: 0.00s 1st Model 0.000s Unsat: 0.000s)"
     ]
    }
   ],
   "source": [
    "% Default\n",
    "#const n = 3.\n",
    "\n",
    "% Generate\n",
    "{ color(X,1..n) } = 1 :- node(X).\n",
    "% Test\n",
    ":- edge(X,Y), color(X,C), color(Y,C).\n",
    "\n",
    "% Nodes\n",
    "node(1..6).\n",
    "% (Directed) Edges\n",
    "edge(1,(2;3;4)).  edge(2,(4;5;6)).  edge(3,(1;4;5)).\n",
    "edge(4,(1;2)).    edge(5,(3;4;6)).  edge(6,(2;3;5)).\n",
    "\n",
    "% Display\n",
    "#show color/2."
   ]
  },
  {
   "cell_type": "markdown",
   "id": "5974d439-408c-4a7b-ad9b-1e54e4e259e1",
   "metadata": {},
   "source": [
    "## n-Queens"
   ]
  },
  {
   "cell_type": "code",
   "execution_count": 5,
   "id": "6619053c-9e27-4a18-b046-d665cfb45ebc",
   "metadata": {},
   "outputs": [
    {
     "name": "stdout",
     "output_type": "stream",
     "text": [
      "Solving...\n",
      "Answer 1\n",
      "q(7,1) q(1,2) q(3,3) q(8,4) q(6,5) q(4,6) q(2,7) q(5,8)\n",
      "SATISFIABLE\n",
      "\n",
      "Models\t\t: 1+\n",
      "Time\t\t: 0.004s (Solving: 0.00s 1st Model 0.000s Unsat: 0.000s)"
     ]
    }
   ],
   "source": [
    "#const n = 8.\n",
    "\n",
    "% n-Queens encoding\n",
    "\n",
    "{ q(I,1..n) } == 1 :- I = 1..n.\n",
    "{ q(1..n,J) } == 1 :- J = 1..n.\n",
    ":- { q(D-J,J) } >= 2, D =   2..2*n.\n",
    ":- { q(D+J,J) } >= 2, D = 1-n..n-1."
   ]
  },
  {
   "cell_type": "markdown",
   "id": "ae080914-f6ed-451d-8f10-46948868da85",
   "metadata": {},
   "source": [
    "## Traveling Salesperson\n",
    "\n",
    "optimization works as usual"
   ]
  },
  {
   "cell_type": "code",
   "execution_count": 6,
   "id": "c98f7b9d-99e5-4862-b493-1331b1788fff",
   "metadata": {},
   "outputs": [
    {
     "name": "stdout",
     "output_type": "stream",
     "text": [
      "Solving...\n",
      "Answer 1\n",
      "cycle(1,4) cycle(2,6) cycle(3,1) cycle(4,2) cycle(5,3) cycle(6,5)\n",
      "Answer 2\n",
      "cycle(1,4) cycle(2,5) cycle(3,1) cycle(4,2) cycle(5,6) cycle(6,3)\n",
      "Answer 3\n",
      "cycle(1,2) cycle(2,5) cycle(3,4) cycle(4,1) cycle(5,6) cycle(6,3)\n",
      "SATISFIABLE\n",
      "OPTIMUM FOUND\n",
      "Optimization: 11\n",
      "\n",
      "Models\t\t: 3\n",
      "\tOptimum\t: yes\n",
      "Optimization\t: 11\n",
      "Time\t\t: 0.003s (Solving: 0.00s 1st Model 0.000s Unsat: 0.000s)"
     ]
    }
   ],
   "source": [
    "% Generate\n",
    "{ cycle(X,Y) : edge(X,Y) } = 1 :- node(X).\n",
    "{ cycle(X,Y) : edge(X,Y) } = 1 :- node(Y).\n",
    "% Define\n",
    "reached(Y) :- cycle(1,Y).\n",
    "reached(Y) :- cycle(X,Y), reached(X).\n",
    "% Test\n",
    ":- node(Y), not reached(Y).\n",
    "% Display\n",
    "#show cycle/2.\n",
    "\n",
    "% Optimize\n",
    "#minimize { C,X,Y : cycle(X,Y), cost(X,Y,C) }.\n",
    "\n",
    "% Nodes\n",
    "node(1..6).\n",
    "% (Directed) Edges\n",
    "edge(1,(2;3;4)).  edge(2,(4;5;6)).  edge(3,(1;4;5)).\n",
    "edge(4,(1;2)).    edge(5,(3;4;6)).  edge(6,(2;3;5)).\n",
    "\n",
    "% Edge Costs\n",
    "cost(1,2,2).  cost(1,3,3).  cost(1,4,1).\n",
    "cost(2,4,2).  cost(2,5,2).  cost(2,6,4).\n",
    "cost(3,1,3).  cost(3,4,2).  cost(3,5,2).\n",
    "cost(4,1,1).  cost(4,2,2).\n",
    "cost(5,3,2).  cost(5,4,2).  cost(5,6,1).\n",
    "cost(6,2,4).  cost(6,3,3).  cost(6,5,1)."
   ]
  },
  {
   "cell_type": "markdown",
   "id": "9db0a7bd-60d5-46ec-a2ff-7aa099a611de",
   "metadata": {},
   "source": [
    "## Blocksworld Planning\n",
    "\n",
    "multi-short solving (usage of multiple `#program` statements) is not supported, and while no error will be outputted below, the expected output is missing."
   ]
  },
  {
   "cell_type": "code",
   "execution_count": 7,
   "id": "73b7eaf7-3c53-47cc-9e75-0810ca113b33",
   "metadata": {},
   "outputs": [
    {
     "name": "stdout",
     "output_type": "stream",
     "text": [
      "Solving...\n",
      "Answer 1\n",
      "\n",
      "SATISFIABLE\n",
      "\n",
      "Models\t\t: 1+\n",
      "Time\t\t: 0.001s (Solving: 0.00s 1st Model 0.000s Unsat: 0.000s)"
     ]
    }
   ],
   "source": [
    "#include <incmode>.\n",
    "\n",
    "#program base.\n",
    "% Define\n",
    "location(table).\n",
    "location(X) :- block(X).\n",
    "holds(F,0) :- init(F).\n",
    "\n",
    "#program step(t).\n",
    "% Generate\n",
    "{ move(X,Y,t) : block(X), location(Y), X != Y } = 1.\n",
    "% Test\n",
    ":- move(X,Y,t), holds(on(A,X),t-1).\n",
    ":- move(X,Y,t), holds(on(B,Y),t-1), B != X, Y != table.\n",
    "% Define\n",
    "moved(X,t) :- move(X,Y,t).\n",
    "holds(on(X,Y),t) :- move(X,Y,t).\n",
    "holds(on(X,Z),t) :- holds(on(X,Z),t-1), not moved(X,t).\n",
    "\n",
    "#program check(t).\n",
    "% Test\n",
    ":- query(t), goal(F), not holds(F,t).\n",
    "\n",
    "% Display\n",
    "#show move/3.\n",
    "\n",
    "#program base.\n",
    "% Sussman Anomaly\n",
    "%\n",
    "block(b0).\n",
    "block(b1).\n",
    "block(b2).\n",
    "%\n",
    "% initial state:\n",
    "%\n",
    "%  2\n",
    "%  0 1\n",
    "% -------\n",
    "%\n",
    "init(on(b1,table)).\n",
    "init(on(b2,b0)).\n",
    "init(on(b0,table)).\n",
    "%\n",
    "% goal state:\n",
    "%\n",
    "%  2\n",
    "%  1\n",
    "%  0\n",
    "% -------\n",
    "%\n",
    "goal(on(b1,b0)).\n",
    "goal(on(b2,b1)).\n",
    "goal(on(b0,table))."
   ]
  },
  {
   "cell_type": "markdown",
   "id": "f9d440d6-097a-454c-907b-6281ef13be7e",
   "metadata": {},
   "source": [
    "## Pigeonator Propagator\n",
    "\n",
    "calling Lua scripts is not supported for the moment, and will result in an error"
   ]
  },
  {
   "cell_type": "code",
   "execution_count": 8,
   "id": "f671a4a8-57e9-43e6-ac2d-b571f784761b",
   "metadata": {},
   "outputs": [
    {
     "ename": "",
     "evalue": "<block>:1:1-54:6: error: lua support not available\n",
     "output_type": "error",
     "traceback": []
    }
   ],
   "source": [
    "#script (lua)\n",
    "\n",
    "require(\"clingo\")\n",
    "\n",
    "local Pigeonator = { }\n",
    "Pigeonator.__index = Pigeonator\n",
    "\n",
    "function Pigeonator.new()\n",
    "    local self = setmetatable({ }, Pigeonator)\n",
    "    self.place = {} -- shared state\n",
    "    return self\n",
    "end\n",
    "\n",
    "function Pigeonator:init(init)\n",
    "    for atom in init.symbolic_atoms:by_signature(\"place\", 2) do\n",
    "        local lit = init:solver_literal(atom.literal)\n",
    "        -- store hole H of each place(P,H) atom\n",
    "        self.place[lit] = atom.symbol.arguments[2].number\n",
    "        init:add_watch(lit)\n",
    "    end\n",
    "    for i = 1, init.number_of_threads do\n",
    "        init:set_state(i, {})\n",
    "    end\n",
    "end\n",
    "\n",
    "function Pigeonator:propagate(control, changes, holes)\n",
    "    for _, lit in ipairs(changes) do\n",
    "        local hole = self.place[lit]\n",
    "        if holes[hole] == nil then\n",
    "            holes[hole] = lit\n",
    "        end\n",
    "        local prev = holes[hole]\n",
    "        if prev ~= lit and not control:add_nogood{{lit, prev}} then\n",
    "            return\n",
    "        end\n",
    "    end\n",
    "end\n",
    "\n",
    "function Pigeonator:undo(thread_id, assignment, changes, holes)\n",
    "    for _, lit in ipairs(changes) do\n",
    "        local hole = self.place[lit]\n",
    "        if holes[hole] == lit then\n",
    "            holes[hole] = nil\n",
    "        end\n",
    "    end\n",
    "end\n",
    "\n",
    "function main(prg)\n",
    "    prg:register_propagator(Pigeonator.new())\n",
    "    prg:ground({{\"base\", {}}})\n",
    "    prg:solve()\n",
    "end\n",
    "\n",
    "#end.\n",
    "\n",
    "#const h = 5.\n",
    "#const p = h+1.\n",
    "\n",
    "1 { place(P,H) : H = 1..h } 1 :- P = 1..p.\n",
    "% { place(P,H) : P = 1..p } 1 :- H = 1..h."
   ]
  }
 ],
 "metadata": {
  "kernelspec": {
   "display_name": "iclingo",
   "language": "clingo",
   "name": "iclingo"
  },
  "language_info": {
   "file_extension": ".lp",
   "mimetype": "text/x-clingo",
   "name": "clingo",
   "version": "0.1"
  }
 },
 "nbformat": 4,
 "nbformat_minor": 5
}
